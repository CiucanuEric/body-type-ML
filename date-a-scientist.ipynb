{
 "cells": [
  {
   "cell_type": "code",
   "execution_count": 68,
   "metadata": {},
   "outputs": [],
   "source": [
    "import pandas as pd"
   ]
  },
  {
   "cell_type": "code",
   "execution_count": 69,
   "metadata": {},
   "outputs": [],
   "source": [
    "profiles=pd.read_csv(\"profiles.csv\")"
   ]
  },
  {
   "cell_type": "code",
   "execution_count": 70,
   "metadata": {},
   "outputs": [
    {
     "data": {
      "text/plain": [
       "Index(['age', 'body_type', 'diet', 'drinks', 'drugs', 'education', 'essay0',\n",
       "       'essay1', 'essay2', 'essay3', 'essay4', 'essay5', 'essay6', 'essay7',\n",
       "       'essay8', 'essay9', 'ethnicity', 'height', 'income', 'job',\n",
       "       'last_online', 'location', 'offspring', 'orientation', 'pets',\n",
       "       'religion', 'sex', 'sign', 'smokes', 'speaks', 'status'],\n",
       "      dtype='object')"
      ]
     },
     "execution_count": 70,
     "metadata": {},
     "output_type": "execute_result"
    }
   ],
   "source": [
    "profiles.columns"
   ]
  },
  {
   "cell_type": "code",
   "execution_count": 98,
   "metadata": {
    "scrolled": false
   },
   "outputs": [
    {
     "data": {
      "text/plain": [
       "4.0    14652\n",
       "1.0    12711\n",
       "2.0    11819\n",
       "0.0     6843\n",
       "5.0     6553\n",
       "3.0     1430\n",
       "6.0      642\n",
       "Name: body_type, dtype: int64"
      ]
     },
     "execution_count": 98,
     "metadata": {},
     "output_type": "execute_result"
    }
   ],
   "source": [
    "profiles['body_type'].value_counts()"
   ]
  },
  {
   "cell_type": "code",
   "execution_count": 72,
   "metadata": {},
   "outputs": [
    {
     "data": {
      "text/plain": [
       "59946"
      ]
     },
     "execution_count": 72,
     "metadata": {},
     "output_type": "execute_result"
    }
   ],
   "source": [
    "len(profiles)"
   ]
  },
  {
   "cell_type": "code",
   "execution_count": 73,
   "metadata": {},
   "outputs": [],
   "source": [
    "# TRANSFORMS THE \"religion\" COLUMN\n",
    "\n",
    "profiles[\"religion\"]= profiles[\"religion\"].str.extract(r\"(\\b(?:agnosticism|christianity|catholicism|buddhism|other|hinduism|judaism|islam))\")"
   ]
  },
  {
   "cell_type": "code",
   "execution_count": 74,
   "metadata": {},
   "outputs": [],
   "source": [
    "# TRANSFORMS THE \"ethnicity\" COLUMN\n",
    "\n",
    "profiles[\"ethnicity\"]= profiles[\"ethnicity\"].str.extract(r\"(\\b(?:black|hispanic|asian|white))\")"
   ]
  },
  {
   "cell_type": "code",
   "execution_count": 75,
   "metadata": {},
   "outputs": [],
   "source": [
    "# TRANSFORMS THE \"offspring\" COLUMN\n",
    "\n",
    "profiles[\"offspring\"]=profiles[\"offspring\"].replace({\n",
    "    'doesn&rsquo;t want kids': 0,\n",
    "    'doesn&rsquo;t have kids, and doesn&rsquo;t want any': 0,\n",
    "\n",
    "    'doesn&rsquo;t have kids': 0,\n",
    "\n",
    "    'doesn&rsquo;t have kids, but might want them':0, \n",
    "    'might want kids': 0,\n",
    "\n",
    "    'doesn&rsquo;t have kids, but wants them':0,\n",
    "    'wants kids': 0,\n",
    "\n",
    "    'has a kid, but doesn&rsquo;t want more': 1,\n",
    "\n",
    "    'has a kid' : 1,\n",
    "\n",
    "    'has a kid, and might want more': 1,\n",
    "\n",
    "    'has a kid, and wants more': 1,\n",
    "\n",
    "    'has kids, but doesn&rsquo;t want more': 2,\n",
    "\n",
    "    'has kids': 2,\n",
    "\n",
    "    'has kids, and might want more': 2,\n",
    "\n",
    "    'has kids, and wants more': 2\n",
    "})"
   ]
  },
  {
   "cell_type": "code",
   "execution_count": 76,
   "metadata": {},
   "outputs": [],
   "source": [
    "# TRANSFORMS THE \"body_type\" COLUMN\n",
    "\n",
    "profiles[\"body_type\"]=profiles[\"body_type\"].replace({\n",
    "    'skinny': 0,\n",
    "    'thin': 0,\n",
    "    'used up': 0,\n",
    "    'fit': 1,\n",
    "    'athletic': 2,\n",
    "    'jacked': 3,\n",
    "    'full figured': 3,\n",
    "    'average': 4,\n",
    "    'curvy': 5,\n",
    "    'a little extra': 5,\n",
    "    'overweight': 6,\n",
    "    'rather not say': 6\n",
    "    \n",
    "})"
   ]
  },
  {
   "cell_type": "code",
   "execution_count": 77,
   "metadata": {},
   "outputs": [],
   "source": [
    "# TRANSFORMS THE \"drinks\" COLUMN\n",
    "\n",
    "profiles[\"drinks\"]=profiles[\"drinks\"].replace({\n",
    "    'not at all': 0,\n",
    "    'rarely': 1,\n",
    "    'socially': 2,\n",
    "    'often': 3,\n",
    "    'very often': 4,\n",
    "    'desperately': 5\n",
    "})"
   ]
  },
  {
   "cell_type": "code",
   "execution_count": 78,
   "metadata": {},
   "outputs": [],
   "source": [
    "profiles[\"orientation\"]=profiles[\"orientation\"].replace({\n",
    "    'not at all': 0,\n",
    "    'rarely': 1,\n",
    "    'socially': 2,\n",
    "    'often': 3,\n",
    "    'very often': 4,\n",
    "    'desperately': 5\n",
    "})"
   ]
  },
  {
   "cell_type": "code",
   "execution_count": 79,
   "metadata": {},
   "outputs": [
    {
     "name": "stdout",
     "output_type": "stream",
     "text": [
      "['never' 'sometimes' nan 'often']\n"
     ]
    },
    {
     "data": {
      "text/plain": [
       "array([ 0.,  1., nan,  2.])"
      ]
     },
     "execution_count": 79,
     "metadata": {},
     "output_type": "execute_result"
    }
   ],
   "source": [
    "# TRANSFORMS THE \"drugs\" COLUMN\n",
    "print(profiles[\"drugs\"].unique())\n",
    "profiles[\"drugs\"]=profiles[\"drugs\"].replace({\n",
    "    'never':0,\n",
    "    'sometimes':1,\n",
    "    'often':2\n",
    "})\n",
    "profiles[\"drugs\"].unique()"
   ]
  },
  {
   "cell_type": "code",
   "execution_count": 80,
   "metadata": {},
   "outputs": [
    {
     "name": "stdout",
     "output_type": "stream",
     "text": [
      "['sometimes' 'no' nan 'when drinking' 'yes' 'trying to quit']\n"
     ]
    },
    {
     "data": {
      "text/plain": [
       "array([ 2.,  0., nan,  3.,  4.,  1.])"
      ]
     },
     "execution_count": 80,
     "metadata": {},
     "output_type": "execute_result"
    }
   ],
   "source": [
    "# TRANSFORMS THE \"smokes\" COLUMN\n",
    "print(profiles[\"smokes\"].unique())\n",
    "profiles[\"smokes\"]=profiles[\"smokes\"].replace({\n",
    "    'no':0,\n",
    "    'trying to quit':1,\n",
    "    'sometimes':2,\n",
    "    'when drinking': 3,\n",
    "    'yes':4\n",
    "})\n",
    "profiles[\"smokes\"].unique()"
   ]
  },
  {
   "cell_type": "code",
   "execution_count": 81,
   "metadata": {},
   "outputs": [
    {
     "name": "stdout",
     "output_type": "stream",
     "text": [
      "['single' 'available' 'seeing someone' 'married' 'unknown']\n"
     ]
    },
    {
     "data": {
      "text/plain": [
       "array([ 0,  1,  2,  3, -1], dtype=int64)"
      ]
     },
     "execution_count": 81,
     "metadata": {},
     "output_type": "execute_result"
    }
   ],
   "source": [
    "# TRANSFORMS THE \"status\" COLUMN\n",
    "print(profiles[\"status\"].unique())\n",
    "profiles[\"status\"]=profiles[\"status\"].replace({\n",
    "    'unknown': -1,\n",
    "    'single': 0,\n",
    "    'available': 1,\n",
    "    'seeing someone': 2,\n",
    "    'married': 3\n",
    "})\n",
    "profiles[\"status\"].unique()"
   ]
  },
  {
   "cell_type": "code",
   "execution_count": 82,
   "metadata": {},
   "outputs": [],
   "source": [
    "# SPLIT THE \"pets\" COLUMN INTO \"pets_dogs\" AND \"pets_cats\"\n",
    "\n",
    "\n",
    "profiles[\"pets_dogs\"]= profiles[\"pets\"].str.extract(r\"(\\b(?:likes|has|dislikes)\\s+dogs\\b)\")\n",
    "profiles[\"pets_cats\"]= profiles[\"pets\"].str.extract(r\"(\\b(?:likes|has|dislikes)\\s+cats\\b)\")\n",
    "        \n",
    "profiles[\"pets\"].isna().sum()\n",
    "\n",
    "# TRANSFORMS THE \"pets_dogs\" AND \"pets_cats\" COLUMN\n",
    "\n",
    "# \"pets_dogs\"\n",
    "profiles[\"pets_dogs\"]=profiles[\"pets_dogs\"].replace({\"dislikes dogs\": 0, \"has dogs\": 1, \"likes dogs\": 2})\n",
    "\n",
    "profiles[\"pets_dogs\"]=profiles[\"pets_dogs\"].fillna(-1)\n",
    "\n",
    "# \"pets_cats\"\n",
    "\n",
    "profiles[\"pets_cats\"]=profiles[\"pets_cats\"].replace({\"dislikes cats\": 0, \"has cats\": 1, \"likes cats\": 2})\n",
    "\n",
    "profiles[\"pets_cats\"]=profiles[\"pets_cats\"].fillna(-1)\n",
    "                   "
   ]
  },
  {
   "cell_type": "code",
   "execution_count": 83,
   "metadata": {},
   "outputs": [
    {
     "data": {
      "text/plain": [
       "7.0     4374\n",
       "5.0     4310\n",
       "6.0     4206\n",
       "8.0     4141\n",
       "4.0     4140\n",
       "10.0    4134\n",
       "2.0     3946\n",
       "11.0    3942\n",
       "1.0     3928\n",
       "0.0     3573\n",
       "Name: sign, dtype: int64"
      ]
     },
     "execution_count": 83,
     "metadata": {},
     "output_type": "execute_result"
    }
   ],
   "source": [
    "# TRANSFORMS THE \"sign\" COLUMN\n",
    "\n",
    "\n",
    "profiles[\"sign\"]=profiles[\"sign\"].str.extract(r\"(gemini|cancer|pisces|aquarius|taurus|virgo|sagittarius|cancer|leo|scorpio|libro|capricorn)\")\n",
    "\n",
    "profiles[\"sign\"]=profiles[\"sign\"].replace({\n",
    "    'capricorn': 0,\n",
    "    'aquarius': 1,\n",
    "    'pisces': 2,\n",
    "    'aries': 3,\n",
    "    'taurus': 4,\n",
    "    'gemini': 5,\n",
    "    'cancer': 6,\n",
    "    'leo': 7,\n",
    "    'virgo': 8,\n",
    "    'libro': 9,\n",
    "    'scorpio': 10,\n",
    "    'sagittarius': 11\n",
    "})\n",
    "\n",
    "profiles[\"sign\"].value_counts()"
   ]
  },
  {
   "cell_type": "code",
   "execution_count": 92,
   "metadata": {},
   "outputs": [
    {
     "name": "stdout",
     "output_type": "stream",
     "text": [
      "59946\n",
      "<class 'pandas.core.frame.DataFrame'>\n",
      "Int64Index: 39427 entries, 0 to 59944\n",
      "Data columns (total 23 columns):\n",
      " #   Column                    Non-Null Count  Dtype  \n",
      "---  ------                    --------------  -----  \n",
      " 0   age                       39427 non-null  int64  \n",
      " 1   drinks                    39427 non-null  float64\n",
      " 2   drugs                     39427 non-null  float64\n",
      " 3   smokes                    39427 non-null  float64\n",
      " 4   body_type                 39427 non-null  float64\n",
      " 5   diet_anything             39427 non-null  uint8  \n",
      " 6   diet_halal                39427 non-null  uint8  \n",
      " 7   diet_kosher               39427 non-null  uint8  \n",
      " 8   diet_mostly anything      39427 non-null  uint8  \n",
      " 9   diet_mostly halal         39427 non-null  uint8  \n",
      " 10  diet_mostly kosher        39427 non-null  uint8  \n",
      " 11  diet_mostly other         39427 non-null  uint8  \n",
      " 12  diet_mostly vegan         39427 non-null  uint8  \n",
      " 13  diet_mostly vegetarian    39427 non-null  uint8  \n",
      " 14  diet_other                39427 non-null  uint8  \n",
      " 15  diet_strictly anything    39427 non-null  uint8  \n",
      " 16  diet_strictly halal       39427 non-null  uint8  \n",
      " 17  diet_strictly kosher      39427 non-null  uint8  \n",
      " 18  diet_strictly other       39427 non-null  uint8  \n",
      " 19  diet_strictly vegan       39427 non-null  uint8  \n",
      " 20  diet_strictly vegetarian  39427 non-null  uint8  \n",
      " 21  diet_vegan                39427 non-null  uint8  \n",
      " 22  diet_vegetarian           39427 non-null  uint8  \n",
      "dtypes: float64(4), int64(1), uint8(18)\n",
      "memory usage: 2.5 MB\n"
     ]
    }
   ],
   "source": [
    "# SPECIFIC MODEL DATA TRANSFORMATION\n",
    "\n",
    "training_column=[\"age\",\"drinks\",\"drugs\",\"smokes\",\"diet\"]\n",
    "\n",
    "target_column=[\"body_type\"]\n",
    "model_data=profiles[training_column+target_column]\n",
    "print(len(model_data))\n",
    "#ONE HOT ENCODING ON \"education\", \"job\"\n",
    "\n",
    "model_data=pd.get_dummies(model_data,columns=[\"diet\"])\n",
    "\n",
    "#DROPPING NA VALUES\n",
    "\n",
    "model_data=model_data.dropna()\n",
    "\n",
    "model_data.info()"
   ]
  },
  {
   "cell_type": "code",
   "execution_count": null,
   "metadata": {},
   "outputs": [],
   "source": []
  },
  {
   "cell_type": "code",
   "execution_count": 94,
   "metadata": {},
   "outputs": [],
   "source": [
    "import torch\n",
    "from torch import nn\n",
    "from torch import optim\n",
    "from sklearn.model_selection import train_test_split\n",
    "from sklearn.metrics import accuracy_score, confusion_matrix, classification_report"
   ]
  },
  {
   "cell_type": "code",
   "execution_count": 95,
   "metadata": {},
   "outputs": [
    {
     "data": {
      "text/plain": [
       "tensor([5, 4, 2,  ..., 1, 4, 2])"
      ]
     },
     "execution_count": 95,
     "metadata": {},
     "output_type": "execute_result"
    }
   ],
   "source": [
    "target_feature=model_data[target_column]\n",
    "training_features=model_data.drop(target_column, axis=1)\n",
    "\n",
    "\n",
    "\n",
    "training_features=torch.tensor(training_features.values, dtype=torch.float)\n",
    "target_feature=torch.tensor(model_data[target_column].values, dtype=torch.long).view(-1)\n",
    "\n",
    "X_train, X_test, y_train, y_test=train_test_split(training_features, target_feature, test_size=0.2, random_state=42)\n",
    "\n",
    "target_feature"
   ]
  },
  {
   "cell_type": "code",
   "execution_count": 96,
   "metadata": {
    "scrolled": true
   },
   "outputs": [
    {
     "name": "stdout",
     "output_type": "stream",
     "text": [
      "100/3000 - Accuracy: 0.2811 Loss: 1.6770\n",
      "200/3000 - Accuracy: 0.2871 Loss: 1.6679\n",
      "300/3000 - Accuracy: 0.2866 Loss: 1.6656\n",
      "400/3000 - Accuracy: 0.2868 Loss: 1.6649\n",
      "500/3000 - Accuracy: 0.2879 Loss: 1.6624\n",
      "600/3000 - Accuracy: 0.2878 Loss: 1.6621\n",
      "700/3000 - Accuracy: 0.2895 Loss: 1.6603\n",
      "800/3000 - Accuracy: 0.2884 Loss: 1.6601\n",
      "900/3000 - Accuracy: 0.2902 Loss: 1.6590\n",
      "1000/3000 - Accuracy: 0.2898 Loss: 1.6594\n",
      "1100/3000 - Accuracy: 0.2892 Loss: 1.6585\n",
      "1200/3000 - Accuracy: 0.2886 Loss: 1.6598\n",
      "1300/3000 - Accuracy: 0.2894 Loss: 1.6569\n",
      "1400/3000 - Accuracy: 0.2887 Loss: 1.6564\n",
      "1500/3000 - Accuracy: 0.2883 Loss: 1.6562\n",
      "1600/3000 - Accuracy: 0.2887 Loss: 1.6564\n",
      "1700/3000 - Accuracy: 0.2878 Loss: 1.6564\n",
      "1800/3000 - Accuracy: 0.2892 Loss: 1.6547\n",
      "1900/3000 - Accuracy: 0.2886 Loss: 1.6556\n",
      "2000/3000 - Accuracy: 0.2891 Loss: 1.6547\n",
      "2100/3000 - Accuracy: 0.2901 Loss: 1.6545\n",
      "2200/3000 - Accuracy: 0.2905 Loss: 1.6534\n",
      "2300/3000 - Accuracy: 0.2897 Loss: 1.6535\n",
      "2400/3000 - Accuracy: 0.2897 Loss: 1.6544\n",
      "2500/3000 - Accuracy: 0.2915 Loss: 1.6530\n",
      "2600/3000 - Accuracy: 0.2869 Loss: 1.6551\n",
      "2700/3000 - Accuracy: 0.2899 Loss: 1.6537\n",
      "2800/3000 - Accuracy: 0.2908 Loss: 1.6526\n",
      "2900/3000 - Accuracy: 0.2898 Loss: 1.6545\n",
      "3000/3000 - Accuracy: 0.2917 Loss: 1.6525\n"
     ]
    }
   ],
   "source": [
    "# NEURAL NETWORK\n",
    "\n",
    "offspring_model=nn.Sequential(\n",
    "    nn.Linear(22,80),\n",
    "    nn.ReLU(),\n",
    "    nn.Linear(80,40),\n",
    "    nn.ReLU(),\n",
    "    nn.Linear(40,7)\n",
    ")\n",
    "\n",
    "\n",
    "loss=nn.CrossEntropyLoss()\n",
    "optimizer=optim.Adam(offspring_model.parameters(), lr=0.01)\n",
    "\n",
    "\n",
    "num_epochs= 3000\n",
    "\n",
    "for epoch in range(num_epochs):\n",
    "    predictions=offspring_model(X_train)\n",
    "    BCE=loss(predictions,y_train)\n",
    "    BCE.backward()\n",
    "    optimizer.step()\n",
    "    optimizer.zero_grad()\n",
    "    if (epoch+1) % 100 ==0:\n",
    "        predicted_labels = torch.argmax(predictions, dim=1)\n",
    "        accuracy=accuracy_score(predicted_labels, y_train)\n",
    "        print(f\"{epoch+1}/{num_epochs} - Accuracy: {accuracy.item():.4f} Loss: {BCE.item():.4f}\")"
   ]
  },
  {
   "cell_type": "code",
   "execution_count": 99,
   "metadata": {},
   "outputs": [
    {
     "name": "stdout",
     "output_type": "stream",
     "text": [
      "              precision    recall  f1-score   support\n",
      "\n",
      "           0       0.19      0.04      0.06       945\n",
      "           1       0.27      0.21      0.24      1751\n",
      "           2       0.27      0.12      0.16      1698\n",
      "           3       0.00      0.00      0.00       222\n",
      "           4       0.29      0.73      0.41      2210\n",
      "           5       0.09      0.01      0.01       959\n",
      "           6       0.00      0.00      0.00       101\n",
      "\n",
      "    accuracy                           0.28      7886\n",
      "   macro avg       0.16      0.16      0.13      7886\n",
      "weighted avg       0.23      0.28      0.21      7886\n",
      "\n"
     ]
    },
    {
     "name": "stderr",
     "output_type": "stream",
     "text": [
      "C:\\Users\\Eric\\anaconda3\\lib\\site-packages\\sklearn\\metrics\\_classification.py:1318: UndefinedMetricWarning: Precision and F-score are ill-defined and being set to 0.0 in labels with no predicted samples. Use `zero_division` parameter to control this behavior.\n",
      "  _warn_prf(average, modifier, msg_start, len(result))\n",
      "C:\\Users\\Eric\\anaconda3\\lib\\site-packages\\sklearn\\metrics\\_classification.py:1318: UndefinedMetricWarning: Precision and F-score are ill-defined and being set to 0.0 in labels with no predicted samples. Use `zero_division` parameter to control this behavior.\n",
      "  _warn_prf(average, modifier, msg_start, len(result))\n",
      "C:\\Users\\Eric\\anaconda3\\lib\\site-packages\\sklearn\\metrics\\_classification.py:1318: UndefinedMetricWarning: Precision and F-score are ill-defined and being set to 0.0 in labels with no predicted samples. Use `zero_division` parameter to control this behavior.\n",
      "  _warn_prf(average, modifier, msg_start, len(result))\n"
     ]
    }
   ],
   "source": [
    "offspring_model.eval()\n",
    "with torch.no_grad():\n",
    "    ## YOUR SOLUTION HERE ##\n",
    "    predictions = offspring_model(X_test)\n",
    "    predicted_labels = torch.argmax(predictions, dim=1)\n",
    "    accuracy = accuracy_score(y_test, predicted_labels) \n",
    "    report = classification_report(y_test,predicted_labels)\n",
    "    print(report)"
   ]
  },
  {
   "cell_type": "code",
   "execution_count": 103,
   "metadata": {},
   "outputs": [
    {
     "name": "stdout",
     "output_type": "stream",
     "text": [
      "0.279229013441542\n"
     ]
    }
   ],
   "source": [
    "# DECISION TREES\n",
    "\n",
    "\n",
    "\n",
    "from sklearn.tree import DecisionTreeClassifier\n",
    "\n",
    "\n",
    "target_feature=model_data[target_column]\n",
    "training_features=model_data.drop(target_column, axis=1)\n",
    "\n",
    "\n",
    "X_train, X_test, y_train, y_test=train_test_split(training_features, target_feature, test_size=0.2, random_state=42)\n",
    "\n",
    "\n",
    "classifier = DecisionTreeClassifier(random_state = 0, max_depth=11)\n",
    "classifier.fit(X_train, y_train)\n",
    "\n",
    "print(classifier.score(X_test, y_test))"
   ]
  },
  {
   "cell_type": "code",
   "execution_count": null,
   "metadata": {},
   "outputs": [],
   "source": []
  }
 ],
 "metadata": {
  "kernelspec": {
   "display_name": "Python 3 (ipykernel)",
   "language": "python",
   "name": "python3"
  },
  "language_info": {
   "codemirror_mode": {
    "name": "ipython",
    "version": 3
   },
   "file_extension": ".py",
   "mimetype": "text/x-python",
   "name": "python",
   "nbconvert_exporter": "python",
   "pygments_lexer": "ipython3",
   "version": "3.9.13"
  }
 },
 "nbformat": 4,
 "nbformat_minor": 4
}
